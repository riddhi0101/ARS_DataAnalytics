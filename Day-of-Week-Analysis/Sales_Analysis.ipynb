{
 "cells": [
  {
   "cell_type": "markdown",
   "metadata": {},
   "source": [
    "# Sales on Day of the Week\n",
    "\n",
    "### Allison & Caitlin, Fall 2021"
   ]
  },
  {
   "cell_type": "code",
   "execution_count": 251,
   "metadata": {},
   "outputs": [],
   "source": [
    "# Libraries\n",
    "import pandas as pd\n",
    "import matplotlib.pyplot as plt\n",
    "import numpy as np"
   ]
  },
  {
   "cell_type": "code",
   "execution_count": 252,
   "metadata": {},
   "outputs": [
    {
     "data": {
      "text/html": [
       "<div>\n",
       "<style scoped>\n",
       "    .dataframe tbody tr th:only-of-type {\n",
       "        vertical-align: middle;\n",
       "    }\n",
       "\n",
       "    .dataframe tbody tr th {\n",
       "        vertical-align: top;\n",
       "    }\n",
       "\n",
       "    .dataframe thead th {\n",
       "        text-align: right;\n",
       "    }\n",
       "</style>\n",
       "<table border=\"1\" class=\"dataframe\">\n",
       "  <thead>\n",
       "    <tr style=\"text-align: right;\">\n",
       "      <th></th>\n",
       "      <th>Date</th>\n",
       "      <th>Item</th>\n",
       "      <th>Total Price</th>\n",
       "      <th>Category</th>\n",
       "      <th>Clothing</th>\n",
       "      <th>Suggested Price</th>\n",
       "    </tr>\n",
       "  </thead>\n",
       "  <tbody>\n",
       "    <tr>\n",
       "      <th>0</th>\n",
       "      <td>9/24/21</td>\n",
       "      <td>jeans</td>\n",
       "      <td>$5.00</td>\n",
       "      <td>pants</td>\n",
       "      <td>1</td>\n",
       "      <td>5.0</td>\n",
       "    </tr>\n",
       "    <tr>\n",
       "      <th>1</th>\n",
       "      <td>9/24/21</td>\n",
       "      <td>boutique item</td>\n",
       "      <td>$6.00</td>\n",
       "      <td>boutique_item</td>\n",
       "      <td>1</td>\n",
       "      <td>NaN</td>\n",
       "    </tr>\n",
       "    <tr>\n",
       "      <th>2</th>\n",
       "      <td>9/24/21</td>\n",
       "      <td>boutique item</td>\n",
       "      <td>$7.00</td>\n",
       "      <td>boutique_item</td>\n",
       "      <td>1</td>\n",
       "      <td>NaN</td>\n",
       "    </tr>\n",
       "    <tr>\n",
       "      <th>3</th>\n",
       "      <td>9/24/21</td>\n",
       "      <td>button-down work shirt</td>\n",
       "      <td>$5.00</td>\n",
       "      <td>long_sleeves_blouses</td>\n",
       "      <td>1</td>\n",
       "      <td>5.0</td>\n",
       "    </tr>\n",
       "    <tr>\n",
       "      <th>4</th>\n",
       "      <td>9/24/21</td>\n",
       "      <td>short_sleeve_tops</td>\n",
       "      <td>$3.00</td>\n",
       "      <td>short_sleeve_tops</td>\n",
       "      <td>1</td>\n",
       "      <td>NaN</td>\n",
       "    </tr>\n",
       "  </tbody>\n",
       "</table>\n",
       "</div>"
      ],
      "text/plain": [
       "      Date                    Item Total Price              Category  \\\n",
       "0  9/24/21                   jeans      $5.00                  pants   \n",
       "1  9/24/21           boutique item      $6.00          boutique_item   \n",
       "2  9/24/21           boutique item      $7.00          boutique_item   \n",
       "3  9/24/21  button-down work shirt      $5.00   long_sleeves_blouses   \n",
       "4  9/24/21       short_sleeve_tops      $3.00      short_sleeve_tops   \n",
       "\n",
       "   Clothing  Suggested Price  \n",
       "0         1              5.0  \n",
       "1         1              NaN  \n",
       "2         1              NaN  \n",
       "3         1              5.0  \n",
       "4         1              NaN  "
      ]
     },
     "execution_count": 252,
     "metadata": {},
     "output_type": "execute_result"
    }
   ],
   "source": [
    "# Dataframe\n",
    "df = pd.read_csv('../Data/clean_entire.csv')\n",
    "df.head()\n",
    "#print(df.columns)\n",
    "#print(df.dtypes)"
   ]
  },
  {
   "cell_type": "code",
   "execution_count": 253,
   "metadata": {},
   "outputs": [
    {
     "data": {
      "text/html": [
       "<div>\n",
       "<style scoped>\n",
       "    .dataframe tbody tr th:only-of-type {\n",
       "        vertical-align: middle;\n",
       "    }\n",
       "\n",
       "    .dataframe tbody tr th {\n",
       "        vertical-align: top;\n",
       "    }\n",
       "\n",
       "    .dataframe thead th {\n",
       "        text-align: right;\n",
       "    }\n",
       "</style>\n",
       "<table border=\"1\" class=\"dataframe\">\n",
       "  <thead>\n",
       "    <tr style=\"text-align: right;\">\n",
       "      <th></th>\n",
       "      <th>Date</th>\n",
       "      <th>Item</th>\n",
       "      <th>Total Price</th>\n",
       "      <th>Category</th>\n",
       "      <th>Clothing</th>\n",
       "      <th>Suggested Price</th>\n",
       "      <th>Day of Week</th>\n",
       "    </tr>\n",
       "  </thead>\n",
       "  <tbody>\n",
       "    <tr>\n",
       "      <th>0</th>\n",
       "      <td>2021-09-24</td>\n",
       "      <td>jeans</td>\n",
       "      <td>$5.00</td>\n",
       "      <td>pants</td>\n",
       "      <td>1</td>\n",
       "      <td>5.0</td>\n",
       "      <td>4</td>\n",
       "    </tr>\n",
       "    <tr>\n",
       "      <th>1</th>\n",
       "      <td>2021-09-24</td>\n",
       "      <td>boutique item</td>\n",
       "      <td>$6.00</td>\n",
       "      <td>boutique_item</td>\n",
       "      <td>1</td>\n",
       "      <td>NaN</td>\n",
       "      <td>4</td>\n",
       "    </tr>\n",
       "    <tr>\n",
       "      <th>2</th>\n",
       "      <td>2021-09-24</td>\n",
       "      <td>boutique item</td>\n",
       "      <td>$7.00</td>\n",
       "      <td>boutique_item</td>\n",
       "      <td>1</td>\n",
       "      <td>NaN</td>\n",
       "      <td>4</td>\n",
       "    </tr>\n",
       "    <tr>\n",
       "      <th>3</th>\n",
       "      <td>2021-09-24</td>\n",
       "      <td>button-down work shirt</td>\n",
       "      <td>$5.00</td>\n",
       "      <td>long_sleeves_blouses</td>\n",
       "      <td>1</td>\n",
       "      <td>5.0</td>\n",
       "      <td>4</td>\n",
       "    </tr>\n",
       "    <tr>\n",
       "      <th>4</th>\n",
       "      <td>2021-09-24</td>\n",
       "      <td>short_sleeve_tops</td>\n",
       "      <td>$3.00</td>\n",
       "      <td>short_sleeve_tops</td>\n",
       "      <td>1</td>\n",
       "      <td>NaN</td>\n",
       "      <td>4</td>\n",
       "    </tr>\n",
       "  </tbody>\n",
       "</table>\n",
       "</div>"
      ],
      "text/plain": [
       "        Date                    Item Total Price              Category  \\\n",
       "0 2021-09-24                   jeans      $5.00                  pants   \n",
       "1 2021-09-24           boutique item      $6.00          boutique_item   \n",
       "2 2021-09-24           boutique item      $7.00          boutique_item   \n",
       "3 2021-09-24  button-down work shirt      $5.00   long_sleeves_blouses   \n",
       "4 2021-09-24       short_sleeve_tops      $3.00      short_sleeve_tops   \n",
       "\n",
       "   Clothing  Suggested Price  Day of Week  \n",
       "0         1              5.0            4  \n",
       "1         1              NaN            4  \n",
       "2         1              NaN            4  \n",
       "3         1              5.0            4  \n",
       "4         1              NaN            4  "
      ]
     },
     "execution_count": 253,
     "metadata": {},
     "output_type": "execute_result"
    }
   ],
   "source": [
    "df.Date = pd.to_datetime(df.Date)\n",
    "df['Day of Week'] = df.Date.dt.dayofweek # Series.dt() is accessor object for datetimelike props of Series values\n",
    "df.head()"
   ]
  },
  {
   "cell_type": "markdown",
   "metadata": {},
   "source": [
    "**Note:** Monday is 0 and Sunday is 6. Also note that Suggested Price NaN's correspond to boutique items or unspecified items that are just mapped to their parent category."
   ]
  },
  {
   "cell_type": "code",
   "execution_count": 254,
   "metadata": {},
   "outputs": [
    {
     "name": "stderr",
     "output_type": "stream",
     "text": [
      "<ipython-input-254-918b543cec22>:2: FutureWarning: The default value of regex will change from True to False in a future version. In addition, single character regular expressions will*not* be treated as literal strings when regex=True.\n",
      "  df['Total Price'] = df['Total Price'].str.replace('$', '').astype(float)\n"
     ]
    },
    {
     "data": {
      "text/html": [
       "<div>\n",
       "<style scoped>\n",
       "    .dataframe tbody tr th:only-of-type {\n",
       "        vertical-align: middle;\n",
       "    }\n",
       "\n",
       "    .dataframe tbody tr th {\n",
       "        vertical-align: top;\n",
       "    }\n",
       "\n",
       "    .dataframe thead th {\n",
       "        text-align: right;\n",
       "    }\n",
       "</style>\n",
       "<table border=\"1\" class=\"dataframe\">\n",
       "  <thead>\n",
       "    <tr style=\"text-align: right;\">\n",
       "      <th></th>\n",
       "      <th>Date</th>\n",
       "      <th>Item</th>\n",
       "      <th>Total Price</th>\n",
       "      <th>Category</th>\n",
       "      <th>Clothing</th>\n",
       "      <th>Suggested Price</th>\n",
       "      <th>Day of Week</th>\n",
       "    </tr>\n",
       "  </thead>\n",
       "  <tbody>\n",
       "    <tr>\n",
       "      <th>0</th>\n",
       "      <td>2021-09-24</td>\n",
       "      <td>jeans</td>\n",
       "      <td>5.0</td>\n",
       "      <td>pants</td>\n",
       "      <td>1</td>\n",
       "      <td>5.0</td>\n",
       "      <td>4</td>\n",
       "    </tr>\n",
       "    <tr>\n",
       "      <th>1</th>\n",
       "      <td>2021-09-24</td>\n",
       "      <td>boutique item</td>\n",
       "      <td>6.0</td>\n",
       "      <td>boutique_item</td>\n",
       "      <td>1</td>\n",
       "      <td>NaN</td>\n",
       "      <td>4</td>\n",
       "    </tr>\n",
       "    <tr>\n",
       "      <th>2</th>\n",
       "      <td>2021-09-24</td>\n",
       "      <td>boutique item</td>\n",
       "      <td>7.0</td>\n",
       "      <td>boutique_item</td>\n",
       "      <td>1</td>\n",
       "      <td>NaN</td>\n",
       "      <td>4</td>\n",
       "    </tr>\n",
       "    <tr>\n",
       "      <th>3</th>\n",
       "      <td>2021-09-24</td>\n",
       "      <td>button-down work shirt</td>\n",
       "      <td>5.0</td>\n",
       "      <td>long_sleeves_blouses</td>\n",
       "      <td>1</td>\n",
       "      <td>5.0</td>\n",
       "      <td>4</td>\n",
       "    </tr>\n",
       "    <tr>\n",
       "      <th>4</th>\n",
       "      <td>2021-09-24</td>\n",
       "      <td>short_sleeve_tops</td>\n",
       "      <td>3.0</td>\n",
       "      <td>short_sleeve_tops</td>\n",
       "      <td>1</td>\n",
       "      <td>NaN</td>\n",
       "      <td>4</td>\n",
       "    </tr>\n",
       "  </tbody>\n",
       "</table>\n",
       "</div>"
      ],
      "text/plain": [
       "        Date                    Item  Total Price              Category  \\\n",
       "0 2021-09-24                   jeans          5.0                 pants   \n",
       "1 2021-09-24           boutique item          6.0         boutique_item   \n",
       "2 2021-09-24           boutique item          7.0         boutique_item   \n",
       "3 2021-09-24  button-down work shirt          5.0  long_sleeves_blouses   \n",
       "4 2021-09-24       short_sleeve_tops          3.0     short_sleeve_tops   \n",
       "\n",
       "   Clothing  Suggested Price  Day of Week  \n",
       "0         1              5.0            4  \n",
       "1         1              NaN            4  \n",
       "2         1              NaN            4  \n",
       "3         1              5.0            4  \n",
       "4         1              NaN            4  "
      ]
     },
     "execution_count": 254,
     "metadata": {},
     "output_type": "execute_result"
    }
   ],
   "source": [
    "# Remove dollar sign from price and convert to numeric object\n",
    "df['Total Price'] = df['Total Price'].str.replace('$', '').astype(float)\n",
    "df.head()"
   ]
  },
  {
   "cell_type": "code",
   "execution_count": 255,
   "metadata": {},
   "outputs": [
    {
     "name": "stdout",
     "output_type": "stream",
     "text": [
      "We made $747.50 this quarter. Not bad!\n",
      "Sales days: [0, 1, 2, 4]\n"
     ]
    }
   ],
   "source": [
    "# Total sales over the quarter\n",
    "print('We made ${:.2f} this quarter. Not bad!'.format(df['Total Price'].sum()))\n",
    "print('Sales days:', sorted(df['Day of Week'].unique()))"
   ]
  },
  {
   "cell_type": "markdown",
   "metadata": {},
   "source": [
    "**Note:** i.e., We only had sales on Mondays: 0, Tuesdays: 1, Wednesdays: 2, and Fridays: 4."
   ]
  },
  {
   "cell_type": "code",
   "execution_count": 256,
   "metadata": {},
   "outputs": [
    {
     "name": "stdout",
     "output_type": "stream",
     "text": [
      "['2021-09-24T00:00:00.000000000' '2021-10-01T00:00:00.000000000'\n",
      " '2021-10-04T00:00:00.000000000' '2021-10-06T00:00:00.000000000'\n",
      " '2021-10-08T00:00:00.000000000' '2021-10-11T00:00:00.000000000'\n",
      " '2021-10-13T00:00:00.000000000' '2021-10-15T00:00:00.000000000'\n",
      " '2021-10-18T00:00:00.000000000' '2021-10-19T00:00:00.000000000'\n",
      " '2021-10-27T00:00:00.000000000']\n"
     ]
    }
   ],
   "source": [
    "print(df['Date'].unique())"
   ]
  },
  {
   "cell_type": "markdown",
   "metadata": {},
   "source": [
    "So, we had sales on **3 Mondays** (10/4, 10/11, 10/18), **1 Tuesday** (10/19), **3 Wednesdays** (10/6, 10/13, 10/27), **4 Fridays** (9/24, 10/1, 10/8, 10/15)."
   ]
  },
  {
   "cell_type": "code",
   "execution_count": 257,
   "metadata": {},
   "outputs": [
    {
     "data": {
      "image/png": "[encoded data removed]",
      "text/plain": [
       "<Figure size 360x360 with 1 Axes>"
      ]
     },
     "metadata": {
      "needs_background": "light"
     },
     "output_type": "display_data"
    },
    {
     "name": "stdout",
     "output_type": "stream",
     "text": [
      "Total Sales on 9/24: $71.00\n",
      "Total Sales on 10/1: $173.50\n",
      "Total Sales on 10/4: $25.00\n",
      "Total Sales on 10/6: $49.00\n",
      "Total Sales on 10/8: $139.00\n",
      "Total Sales on 10/11: $9.00\n",
      "Total Sales on 10/13: $138.00\n",
      "Total Sales on 10/15: $37.00\n",
      "Total Sales on 10/18: $22.00\n",
      "Total Sales on 10/19: $2.00\n",
      "Total Sales on 10/27: $82.00\n"
     ]
    }
   ],
   "source": [
    "# Total sales for each day we held a sale\n",
    "unique_dates = ['9/24', '10/1', '10/4', '10/6', '10/8', '10/11', '10/13', '10/15', '10/18', '10/19', '10/27']\n",
    "unique_tots = []\n",
    "for d in df['Date'].unique():\n",
    "    unique_tots.append(df.loc[df['Date'] == d, 'Total Price'].sum())\n",
    "\n",
    "plt.figure(figsize=(5,5))\n",
    "plt.xticks(rotation = 35)\n",
    "plt.xlabel('Date', fontweight = 'bold')\n",
    "plt.ylabel('Total Sales (USD)', fontweight = 'bold')\n",
    "plt.title('Total Sales per Date', fontweight = 'bold')\n",
    "plt.bar(unique_dates, unique_tots, color = 'blueviolet')\n",
    "plt.show()\n",
    "\n",
    "for i in range(len(unique_dates)):\n",
    "    print('Total Sales on {}: ${:.2f}'.format(unique_dates[i], unique_tots[i]))"
   ]
  },
  {
   "cell_type": "code",
   "execution_count": 258,
   "metadata": {},
   "outputs": [
    {
     "data": {
      "image/png": "[encoded data removed]",
      "text/plain": [
       "<Figure size 360x360 with 1 Axes>"
      ]
     },
     "metadata": {
      "needs_background": "light"
     },
     "output_type": "display_data"
    },
    {
     "name": "stdout",
     "output_type": "stream",
     "text": [
      "Monday average sales: $18.67\n",
      "Tuesday average sales: $2.00\n",
      "Wednesday average sales: $89.67\n",
      "Thursday average sales: $0.00\n",
      "Friday average sales: $105.12\n",
      "Saturday average sales: $0.00\n",
      "Sunday average sales: $0.00\n"
     ]
    }
   ],
   "source": [
    "# Average sales per day of the week\n",
    "days_of_week = ['Monday', 'Tuesday', 'Wednesday', 'Thursday', 'Friday', 'Saturday', 'Sunday']\n",
    "tots_of_week = []\n",
    "for d in range(0,7):\n",
    "    tots_of_week.append(df.loc[df['Day of Week'] == d, 'Total Price'].sum())\n",
    "counts_of_wk = [3, 1, 3, 1, 4, 1, 1]\n",
    "avgs_of_week = [i / j for i, j in zip(tots_of_week, counts_of_wk)]\n",
    "\n",
    "plt.figure(figsize=(5,5))\n",
    "plt.xticks(rotation = 30)\n",
    "plt.xlabel('Day of Week', fontweight = 'bold')\n",
    "plt.ylabel('Average Sales (USD)', fontweight = 'bold')\n",
    "plt.title('Average Sales per Day of Week', fontweight = 'bold')\n",
    "plt.bar(days_of_week, avgs_of_week, color = 'forestgreen')\n",
    "plt.show()\n",
    "\n",
    "for i in range(len(days_of_week)):\n",
    "    print('{} average sales: ${:.2f}'.format(days_of_week[i], avgs_of_week[i]))"
   ]
  },
  {
   "cell_type": "markdown",
   "metadata": {},
   "source": [
    "**Note:** That one Tuesday 10/19 may have been a typo."
   ]
  },
  {
   "cell_type": "code",
   "execution_count": 259,
   "metadata": {},
   "outputs": [
    {
     "data": {
      "image/png": "[encoded data removed]",
      "text/plain": [
       "<Figure size 720x720 with 1 Axes>"
      ]
     },
     "metadata": {
      "needs_background": "light"
     },
     "output_type": "display_data"
    }
   ],
   "source": [
    "df['Day of Week'].replace(1,0)\n",
    "df_grouped = df.groupby(['Day of Week', 'Category'])['Total Price'].sum().unstack().fillna(0)\n",
    "\n",
    "days_of_week = ['Monday', 'Tuesday', 'Wednesday', 'Friday']\n",
    "\n",
    "ax = df_grouped.plot(kind = 'bar', stacked = True, figsize=(10,10),cmap=plt.cm.rainbow)\n",
    "plt.xticks(rotation=0)\n",
    "ax.set_xticklabels(['Monday', 'Tuesday', 'Wednesday', 'Friday'])\n",
    "plt.xlabel('Day of Week', fontweight = 'bold')\n",
    "plt.ylabel('Sales (USD)', fontweight = 'bold')\n",
    "plt.title('Total Category Sales per Day of Week', fontweight = 'bold')\n",
    "plt.show()"
   ]
  },
  {
   "cell_type": "code",
   "execution_count": 261,
   "metadata": {},
   "outputs": [
    {
     "data": {
      "text/plain": [
       "array([4, 0, 2, 1])"
      ]
     },
     "execution_count": 261,
     "metadata": {},
     "output_type": "execute_result"
    }
   ],
   "source": [
    "df.replace({1:0})\n",
    "df['Day of Week'].unique()"
   ]
  },
  {
   "cell_type": "code",
   "execution_count": null,
   "metadata": {},
   "outputs": [],
   "source": []
  }
 ],
 "metadata": {
  "kernelspec": {
   "display_name": "Python 3",
   "language": "python",
   "name": "python3"
  },
  "language_info": {
   "codemirror_mode": {
    "name": "ipython",
    "version": 3
   },
   "file_extension": ".py",
   "mimetype": "text/x-python",
   "name": "python",
   "nbconvert_exporter": "python",
   "pygments_lexer": "ipython3",
   "version": "3.8.2"
  }
 },
 "nbformat": 4,
 "nbformat_minor": 4
}
